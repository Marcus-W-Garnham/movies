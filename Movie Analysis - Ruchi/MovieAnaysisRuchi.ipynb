{
 "cells": [
  {
   "cell_type": "code",
   "execution_count": 16,
   "id": "8aa05eee",
   "metadata": {},
   "outputs": [],
   "source": [
    "import pandas as pd\n",
    "import numpy as np\n",
    "import matplotlib.pyplot as plt\n",
    "import scipy.stats as st"
   ]
  },
  {
   "cell_type": "code",
   "execution_count": 17,
   "id": "87e80585",
   "metadata": {
    "scrolled": true
   },
   "outputs": [],
   "source": [
    "# reading csv file\n",
    "\n",
    "movies_df = pd.read_csv(\"rename_year_df.csv\")\n"
   ]
  },
  {
   "cell_type": "code",
   "execution_count": 18,
   "id": "d92d3aba",
   "metadata": {
    "scrolled": true
   },
   "outputs": [
    {
     "data": {
      "text/html": [
       "<div>\n",
       "<style scoped>\n",
       "    .dataframe tbody tr th:only-of-type {\n",
       "        vertical-align: middle;\n",
       "    }\n",
       "\n",
       "    .dataframe tbody tr th {\n",
       "        vertical-align: top;\n",
       "    }\n",
       "\n",
       "    .dataframe thead th {\n",
       "        text-align: right;\n",
       "    }\n",
       "</style>\n",
       "<table border=\"1\" class=\"dataframe\">\n",
       "  <thead>\n",
       "    <tr style=\"text-align: right;\">\n",
       "      <th></th>\n",
       "      <th>Unnamed: 0</th>\n",
       "      <th>Movie ID</th>\n",
       "      <th>Title</th>\n",
       "      <th>Date</th>\n",
       "      <th>Genre</th>\n",
       "      <th>RunTime</th>\n",
       "      <th>country</th>\n",
       "      <th>Director</th>\n",
       "      <th>Actors</th>\n",
       "      <th>Average_Vote</th>\n",
       "      <th>Budget</th>\n",
       "      <th>USA Gross Income</th>\n",
       "      <th>Worldwide Gross Income</th>\n",
       "      <th>Fan Reviews</th>\n",
       "      <th>Year</th>\n",
       "    </tr>\n",
       "  </thead>\n",
       "  <tbody>\n",
       "    <tr>\n",
       "      <th>1636</th>\n",
       "      <td>1601</td>\n",
       "      <td>134084</td>\n",
       "      <td>Scream 3</td>\n",
       "      <td>2000-01-09</td>\n",
       "      <td>Horror</td>\n",
       "      <td>116</td>\n",
       "      <td>USA</td>\n",
       "      <td>Wes Craven</td>\n",
       "      <td>Liev Schreiber</td>\n",
       "      <td>5.6</td>\n",
       "      <td>40000000</td>\n",
       "      <td>89143175</td>\n",
       "      <td>161834276</td>\n",
       "      <td>763</td>\n",
       "      <td>2000</td>\n",
       "    </tr>\n",
       "    <tr>\n",
       "      <th>1672</th>\n",
       "      <td>151</td>\n",
       "      <td>186566</td>\n",
       "      <td>Space Cowboys</td>\n",
       "      <td>2000-01-09</td>\n",
       "      <td>Action</td>\n",
       "      <td>130</td>\n",
       "      <td>USA</td>\n",
       "      <td>Clint Eastwood</td>\n",
       "      <td>Clint Eastwood</td>\n",
       "      <td>6.4</td>\n",
       "      <td>65000000</td>\n",
       "      <td>90464773</td>\n",
       "      <td>128884132</td>\n",
       "      <td>351</td>\n",
       "      <td>2000</td>\n",
       "    </tr>\n",
       "    <tr>\n",
       "      <th>1640</th>\n",
       "      <td>433</td>\n",
       "      <td>229260</td>\n",
       "      <td>Book of Shadows: Blair Witch 2</td>\n",
       "      <td>2000-01-12</td>\n",
       "      <td>Adventure</td>\n",
       "      <td>90</td>\n",
       "      <td>USA</td>\n",
       "      <td>Joe Berlinger</td>\n",
       "      <td>Kurt Loder</td>\n",
       "      <td>3.9</td>\n",
       "      <td>15000000</td>\n",
       "      <td>26437094</td>\n",
       "      <td>47737094</td>\n",
       "      <td>466</td>\n",
       "      <td>2000</td>\n",
       "    </tr>\n",
       "    <tr>\n",
       "      <th>1673</th>\n",
       "      <td>38</td>\n",
       "      <td>184858</td>\n",
       "      <td>Reindeer Games</td>\n",
       "      <td>2000-01-12</td>\n",
       "      <td>Action</td>\n",
       "      <td>104</td>\n",
       "      <td>USA</td>\n",
       "      <td>John Frankenheimer</td>\n",
       "      <td>Ben Affleck</td>\n",
       "      <td>5.8</td>\n",
       "      <td>42000000</td>\n",
       "      <td>23368995</td>\n",
       "      <td>32168970</td>\n",
       "      <td>222</td>\n",
       "      <td>2000</td>\n",
       "    </tr>\n",
       "    <tr>\n",
       "      <th>1649</th>\n",
       "      <td>396</td>\n",
       "      <td>184907</td>\n",
       "      <td>Snow Day</td>\n",
       "      <td>2000-01-12</td>\n",
       "      <td>Adventure</td>\n",
       "      <td>89</td>\n",
       "      <td>USA</td>\n",
       "      <td>Chris Koch</td>\n",
       "      <td>Chris Elliott</td>\n",
       "      <td>5.1</td>\n",
       "      <td>13000000</td>\n",
       "      <td>60020107</td>\n",
       "      <td>62464731</td>\n",
       "      <td>102</td>\n",
       "      <td>2000</td>\n",
       "    </tr>\n",
       "  </tbody>\n",
       "</table>\n",
       "</div>"
      ],
      "text/plain": [
       "      Unnamed: 0  Movie ID                           Title        Date  \\\n",
       "1636        1601    134084                        Scream 3  2000-01-09   \n",
       "1672         151    186566                   Space Cowboys  2000-01-09   \n",
       "1640         433    229260  Book of Shadows: Blair Witch 2  2000-01-12   \n",
       "1673          38    184858                  Reindeer Games  2000-01-12   \n",
       "1649         396    184907                        Snow Day  2000-01-12   \n",
       "\n",
       "          Genre  RunTime country            Director          Actors  \\\n",
       "1636     Horror      116     USA          Wes Craven  Liev Schreiber   \n",
       "1672     Action      130     USA      Clint Eastwood  Clint Eastwood   \n",
       "1640  Adventure       90     USA       Joe Berlinger      Kurt Loder   \n",
       "1673     Action      104     USA  John Frankenheimer     Ben Affleck   \n",
       "1649  Adventure       89     USA          Chris Koch   Chris Elliott   \n",
       "\n",
       "      Average_Vote    Budget  USA Gross Income  Worldwide Gross Income  \\\n",
       "1636           5.6  40000000          89143175               161834276   \n",
       "1672           6.4  65000000          90464773               128884132   \n",
       "1640           3.9  15000000          26437094                47737094   \n",
       "1673           5.8  42000000          23368995                32168970   \n",
       "1649           5.1  13000000          60020107                62464731   \n",
       "\n",
       "      Fan Reviews  Year  \n",
       "1636          763  2000  \n",
       "1672          351  2000  \n",
       "1640          466  2000  \n",
       "1673          222  2000  \n",
       "1649          102  2000  "
      ]
     },
     "execution_count": 18,
     "metadata": {},
     "output_type": "execute_result"
    }
   ],
   "source": [
    "#  sorting data datewise\n",
    "\n",
    "sorted_movie_df = movies_df.sort_values(by=[\"Date\"])\n",
    "sorted_movie_df.head()"
   ]
  },
  {
   "cell_type": "code",
   "execution_count": 19,
   "id": "007b3ba0",
   "metadata": {},
   "outputs": [
    {
     "data": {
      "text/html": [
       "<div>\n",
       "<style scoped>\n",
       "    .dataframe tbody tr th:only-of-type {\n",
       "        vertical-align: middle;\n",
       "    }\n",
       "\n",
       "    .dataframe tbody tr th {\n",
       "        vertical-align: top;\n",
       "    }\n",
       "\n",
       "    .dataframe thead th {\n",
       "        text-align: right;\n",
       "    }\n",
       "</style>\n",
       "<table border=\"1\" class=\"dataframe\">\n",
       "  <thead>\n",
       "    <tr style=\"text-align: right;\">\n",
       "      <th></th>\n",
       "      <th>Unnamed: 0</th>\n",
       "      <th>Movie ID</th>\n",
       "      <th>Title</th>\n",
       "      <th>Date</th>\n",
       "      <th>Genre</th>\n",
       "      <th>RunTime</th>\n",
       "      <th>country</th>\n",
       "      <th>Director</th>\n",
       "      <th>Actors</th>\n",
       "      <th>Average_Vote</th>\n",
       "      <th>Budget</th>\n",
       "      <th>USA Gross Income</th>\n",
       "      <th>Worldwide Gross Income</th>\n",
       "      <th>Fan Reviews</th>\n",
       "      <th>Year</th>\n",
       "      <th>Profit Percent</th>\n",
       "      <th>Profit in Million ($)</th>\n",
       "      <th>Box Office Collection in Million ($)</th>\n",
       "      <th>Budget in Million ($)</th>\n",
       "    </tr>\n",
       "  </thead>\n",
       "  <tbody>\n",
       "    <tr>\n",
       "      <th>1636</th>\n",
       "      <td>1601</td>\n",
       "      <td>134084</td>\n",
       "      <td>Scream 3</td>\n",
       "      <td>2000-01-09</td>\n",
       "      <td>Horror</td>\n",
       "      <td>116</td>\n",
       "      <td>USA</td>\n",
       "      <td>Wes Craven</td>\n",
       "      <td>Liev Schreiber</td>\n",
       "      <td>5.6</td>\n",
       "      <td>40000000</td>\n",
       "      <td>89143175</td>\n",
       "      <td>161834276</td>\n",
       "      <td>763</td>\n",
       "      <td>2000</td>\n",
       "      <td>304.59</td>\n",
       "      <td>121.834276</td>\n",
       "      <td>161.834276</td>\n",
       "      <td>40.0</td>\n",
       "    </tr>\n",
       "    <tr>\n",
       "      <th>1672</th>\n",
       "      <td>151</td>\n",
       "      <td>186566</td>\n",
       "      <td>Space Cowboys</td>\n",
       "      <td>2000-01-09</td>\n",
       "      <td>Action</td>\n",
       "      <td>130</td>\n",
       "      <td>USA</td>\n",
       "      <td>Clint Eastwood</td>\n",
       "      <td>Clint Eastwood</td>\n",
       "      <td>6.4</td>\n",
       "      <td>65000000</td>\n",
       "      <td>90464773</td>\n",
       "      <td>128884132</td>\n",
       "      <td>351</td>\n",
       "      <td>2000</td>\n",
       "      <td>98.28</td>\n",
       "      <td>63.884132</td>\n",
       "      <td>128.884132</td>\n",
       "      <td>65.0</td>\n",
       "    </tr>\n",
       "    <tr>\n",
       "      <th>1640</th>\n",
       "      <td>433</td>\n",
       "      <td>229260</td>\n",
       "      <td>Book of Shadows: Blair Witch 2</td>\n",
       "      <td>2000-01-12</td>\n",
       "      <td>Adventure</td>\n",
       "      <td>90</td>\n",
       "      <td>USA</td>\n",
       "      <td>Joe Berlinger</td>\n",
       "      <td>Kurt Loder</td>\n",
       "      <td>3.9</td>\n",
       "      <td>15000000</td>\n",
       "      <td>26437094</td>\n",
       "      <td>47737094</td>\n",
       "      <td>466</td>\n",
       "      <td>2000</td>\n",
       "      <td>218.25</td>\n",
       "      <td>32.737094</td>\n",
       "      <td>47.737094</td>\n",
       "      <td>15.0</td>\n",
       "    </tr>\n",
       "    <tr>\n",
       "      <th>1673</th>\n",
       "      <td>38</td>\n",
       "      <td>184858</td>\n",
       "      <td>Reindeer Games</td>\n",
       "      <td>2000-01-12</td>\n",
       "      <td>Action</td>\n",
       "      <td>104</td>\n",
       "      <td>USA</td>\n",
       "      <td>John Frankenheimer</td>\n",
       "      <td>Ben Affleck</td>\n",
       "      <td>5.8</td>\n",
       "      <td>42000000</td>\n",
       "      <td>23368995</td>\n",
       "      <td>32168970</td>\n",
       "      <td>222</td>\n",
       "      <td>2000</td>\n",
       "      <td>-23.41</td>\n",
       "      <td>-9.831030</td>\n",
       "      <td>32.168970</td>\n",
       "      <td>42.0</td>\n",
       "    </tr>\n",
       "    <tr>\n",
       "      <th>1649</th>\n",
       "      <td>396</td>\n",
       "      <td>184907</td>\n",
       "      <td>Snow Day</td>\n",
       "      <td>2000-01-12</td>\n",
       "      <td>Adventure</td>\n",
       "      <td>89</td>\n",
       "      <td>USA</td>\n",
       "      <td>Chris Koch</td>\n",
       "      <td>Chris Elliott</td>\n",
       "      <td>5.1</td>\n",
       "      <td>13000000</td>\n",
       "      <td>60020107</td>\n",
       "      <td>62464731</td>\n",
       "      <td>102</td>\n",
       "      <td>2000</td>\n",
       "      <td>380.50</td>\n",
       "      <td>49.464731</td>\n",
       "      <td>62.464731</td>\n",
       "      <td>13.0</td>\n",
       "    </tr>\n",
       "  </tbody>\n",
       "</table>\n",
       "</div>"
      ],
      "text/plain": [
       "      Unnamed: 0  Movie ID                           Title        Date  \\\n",
       "1636        1601    134084                        Scream 3  2000-01-09   \n",
       "1672         151    186566                   Space Cowboys  2000-01-09   \n",
       "1640         433    229260  Book of Shadows: Blair Witch 2  2000-01-12   \n",
       "1673          38    184858                  Reindeer Games  2000-01-12   \n",
       "1649         396    184907                        Snow Day  2000-01-12   \n",
       "\n",
       "          Genre  RunTime country            Director          Actors  \\\n",
       "1636     Horror      116     USA          Wes Craven  Liev Schreiber   \n",
       "1672     Action      130     USA      Clint Eastwood  Clint Eastwood   \n",
       "1640  Adventure       90     USA       Joe Berlinger      Kurt Loder   \n",
       "1673     Action      104     USA  John Frankenheimer     Ben Affleck   \n",
       "1649  Adventure       89     USA          Chris Koch   Chris Elliott   \n",
       "\n",
       "      Average_Vote    Budget  USA Gross Income  Worldwide Gross Income  \\\n",
       "1636           5.6  40000000          89143175               161834276   \n",
       "1672           6.4  65000000          90464773               128884132   \n",
       "1640           3.9  15000000          26437094                47737094   \n",
       "1673           5.8  42000000          23368995                32168970   \n",
       "1649           5.1  13000000          60020107                62464731   \n",
       "\n",
       "      Fan Reviews  Year  Profit Percent  Profit in Million ($)  \\\n",
       "1636          763  2000          304.59             121.834276   \n",
       "1672          351  2000           98.28              63.884132   \n",
       "1640          466  2000          218.25              32.737094   \n",
       "1673          222  2000          -23.41              -9.831030   \n",
       "1649          102  2000          380.50              49.464731   \n",
       "\n",
       "      Box Office Collection in Million ($)  Budget in Million ($)  \n",
       "1636                            161.834276                   40.0  \n",
       "1672                            128.884132                   65.0  \n",
       "1640                             47.737094                   15.0  \n",
       "1673                             32.168970                   42.0  \n",
       "1649                             62.464731                   13.0  "
      ]
     },
     "execution_count": 19,
     "metadata": {},
     "output_type": "execute_result"
    }
   ],
   "source": [
    "#  adding new column profit percent in dataframe\n",
    "sorted_movie_df[\"Profit Percent\"] = round(((sorted_movie_df[\"Worldwide Gross Income\"] - sorted_movie_df[\"Budget\"])/sorted_movie_df[\"Budget\"])*100,2)\n",
    "\n",
    "# # adding new column Profit in Million ($) in dataframe\n",
    "sorted_movie_df[\"Profit in Million ($)\"] = (sorted_movie_df[\"Worldwide Gross Income\"] - sorted_movie_df[\"Budget\"])/1000000\n",
    "\n",
    "# # adding new column Box Office Collectio in Million ($) in dataframe\n",
    "sorted_movie_df[\"Box Office Collection in Million ($)\"] = sorted_movie_df[\"Worldwide Gross Income\"]/1000000\n",
    "\n",
    "# # adding new column Budget in Million ($) in dataframe\n",
    "sorted_movie_df[\"Budget in Million ($)\"] = sorted_movie_df[\"Budget\"]/1000000\n",
    "\n",
    "# # display the dataframe \n",
    "sorted_movie_df.head()\n"
   ]
  },
  {
   "cell_type": "markdown",
   "id": "145ce2c6",
   "metadata": {},
   "source": [
    "# Q1) Movies profit earned is related to their runtime?"
   ]
  },
  {
   "cell_type": "markdown",
   "id": "77482c6b",
   "metadata": {},
   "source": [
    "    1. Analyise movies box office collections runtime wise"
   ]
  },
  {
   "cell_type": "code",
   "execution_count": 20,
   "id": "12fe33ea",
   "metadata": {},
   "outputs": [
    {
     "data": {
      "image/png": "[encoded data removed]",
      "text/plain": [
       "<Figure size 432x288 with 1 Axes>"
      ]
     },
     "metadata": {
      "needs_background": "light"
     },
     "output_type": "display_data"
    }
   ],
   "source": [
    "# Create the bins in which Runtime Data will be held\n",
    "# Bins are 0, 90, 115, 130, 145, 160, 185, 200, 215, 230. \n",
    "\n",
    "Bins = [0, 90, 115, 130, 145, 160, 185, 200, 215, 230]\n",
    "\n",
    "# Create the names for the nine bins\n",
    "\n",
    "bin_names = [\" <90 \" , \"90-115 \", \"115-130 \", \"130-145 \", \"145-160 \", \"160-185\", \"185-200\", \"200-215\", \"215-230\"]\n",
    "sorted_movie_df[\"Runtime range\"] = pd.cut(sorted_movie_df[\"RunTime\"], Bins, labels=bin_names, include_lowest=True)\n",
    "\n",
    "# # showing bar graph for Runtime Range wise Worldwide Gross Income (Box Office Collection in Million ($))\n",
    "\n",
    "sorted_movie_df[[\"Runtime range\",\"Box Office Collection in Million ($)\"]].groupby([\"Runtime range\"]).sum().plot.bar()\n",
    "plt.xlabel(\"Runtime range\")\n",
    "plt.ylabel(\"Box Office Collection in Million ($)\")\n",
    "plt.title(\"Box Office Collection in Million ($) vs. Runtime range\")\n",
    "\n",
    "plt.show()\n"
   ]
  },
  {
   "cell_type": "markdown",
   "id": "5692ef57",
   "metadata": {},
   "source": [
    "    2. Classify movies as Flop, Hit, Superhit, Blockbuster etc. based on their profit earned"
   ]
  },
  {
   "cell_type": "code",
   "execution_count": 21,
   "id": "8b8723eb",
   "metadata": {},
   "outputs": [
    {
     "data": {
      "text/html": [
       "<div>\n",
       "<style scoped>\n",
       "    .dataframe tbody tr th:only-of-type {\n",
       "        vertical-align: middle;\n",
       "    }\n",
       "\n",
       "    .dataframe tbody tr th {\n",
       "        vertical-align: top;\n",
       "    }\n",
       "\n",
       "    .dataframe thead th {\n",
       "        text-align: right;\n",
       "    }\n",
       "</style>\n",
       "<table border=\"1\" class=\"dataframe\">\n",
       "  <thead>\n",
       "    <tr style=\"text-align: right;\">\n",
       "      <th></th>\n",
       "      <th>Unnamed: 0</th>\n",
       "      <th>Movie ID</th>\n",
       "      <th>Title</th>\n",
       "      <th>Date</th>\n",
       "      <th>Genre</th>\n",
       "      <th>RunTime</th>\n",
       "      <th>country</th>\n",
       "      <th>Director</th>\n",
       "      <th>Actors</th>\n",
       "      <th>Average_Vote</th>\n",
       "      <th>...</th>\n",
       "      <th>USA Gross Income</th>\n",
       "      <th>Worldwide Gross Income</th>\n",
       "      <th>Fan Reviews</th>\n",
       "      <th>Year</th>\n",
       "      <th>Profit Percent</th>\n",
       "      <th>Profit in Million ($)</th>\n",
       "      <th>Box Office Collection in Million ($)</th>\n",
       "      <th>Budget in Million ($)</th>\n",
       "      <th>Runtime range</th>\n",
       "      <th>Box Office Report</th>\n",
       "    </tr>\n",
       "  </thead>\n",
       "  <tbody>\n",
       "    <tr>\n",
       "      <th>1636</th>\n",
       "      <td>1601</td>\n",
       "      <td>134084</td>\n",
       "      <td>Scream 3</td>\n",
       "      <td>2000-01-09</td>\n",
       "      <td>Horror</td>\n",
       "      <td>116</td>\n",
       "      <td>USA</td>\n",
       "      <td>Wes Craven</td>\n",
       "      <td>Liev Schreiber</td>\n",
       "      <td>5.6</td>\n",
       "      <td>...</td>\n",
       "      <td>89143175</td>\n",
       "      <td>161834276</td>\n",
       "      <td>763</td>\n",
       "      <td>2000</td>\n",
       "      <td>304.59</td>\n",
       "      <td>121.834276</td>\n",
       "      <td>161.834276</td>\n",
       "      <td>40.0</td>\n",
       "      <td>115-130</td>\n",
       "      <td>Superhit</td>\n",
       "    </tr>\n",
       "    <tr>\n",
       "      <th>1672</th>\n",
       "      <td>151</td>\n",
       "      <td>186566</td>\n",
       "      <td>Space Cowboys</td>\n",
       "      <td>2000-01-09</td>\n",
       "      <td>Action</td>\n",
       "      <td>130</td>\n",
       "      <td>USA</td>\n",
       "      <td>Clint Eastwood</td>\n",
       "      <td>Clint Eastwood</td>\n",
       "      <td>6.4</td>\n",
       "      <td>...</td>\n",
       "      <td>90464773</td>\n",
       "      <td>128884132</td>\n",
       "      <td>351</td>\n",
       "      <td>2000</td>\n",
       "      <td>98.28</td>\n",
       "      <td>63.884132</td>\n",
       "      <td>128.884132</td>\n",
       "      <td>65.0</td>\n",
       "      <td>115-130</td>\n",
       "      <td>Semi Hit</td>\n",
       "    </tr>\n",
       "    <tr>\n",
       "      <th>1640</th>\n",
       "      <td>433</td>\n",
       "      <td>229260</td>\n",
       "      <td>Book of Shadows: Blair Witch 2</td>\n",
       "      <td>2000-01-12</td>\n",
       "      <td>Adventure</td>\n",
       "      <td>90</td>\n",
       "      <td>USA</td>\n",
       "      <td>Joe Berlinger</td>\n",
       "      <td>Kurt Loder</td>\n",
       "      <td>3.9</td>\n",
       "      <td>...</td>\n",
       "      <td>26437094</td>\n",
       "      <td>47737094</td>\n",
       "      <td>466</td>\n",
       "      <td>2000</td>\n",
       "      <td>218.25</td>\n",
       "      <td>32.737094</td>\n",
       "      <td>47.737094</td>\n",
       "      <td>15.0</td>\n",
       "      <td>&lt;90</td>\n",
       "      <td>Superhit</td>\n",
       "    </tr>\n",
       "    <tr>\n",
       "      <th>1673</th>\n",
       "      <td>38</td>\n",
       "      <td>184858</td>\n",
       "      <td>Reindeer Games</td>\n",
       "      <td>2000-01-12</td>\n",
       "      <td>Action</td>\n",
       "      <td>104</td>\n",
       "      <td>USA</td>\n",
       "      <td>John Frankenheimer</td>\n",
       "      <td>Ben Affleck</td>\n",
       "      <td>5.8</td>\n",
       "      <td>...</td>\n",
       "      <td>23368995</td>\n",
       "      <td>32168970</td>\n",
       "      <td>222</td>\n",
       "      <td>2000</td>\n",
       "      <td>-23.41</td>\n",
       "      <td>-9.831030</td>\n",
       "      <td>32.168970</td>\n",
       "      <td>42.0</td>\n",
       "      <td>90-115</td>\n",
       "      <td>Flop</td>\n",
       "    </tr>\n",
       "    <tr>\n",
       "      <th>1649</th>\n",
       "      <td>396</td>\n",
       "      <td>184907</td>\n",
       "      <td>Snow Day</td>\n",
       "      <td>2000-01-12</td>\n",
       "      <td>Adventure</td>\n",
       "      <td>89</td>\n",
       "      <td>USA</td>\n",
       "      <td>Chris Koch</td>\n",
       "      <td>Chris Elliott</td>\n",
       "      <td>5.1</td>\n",
       "      <td>...</td>\n",
       "      <td>60020107</td>\n",
       "      <td>62464731</td>\n",
       "      <td>102</td>\n",
       "      <td>2000</td>\n",
       "      <td>380.50</td>\n",
       "      <td>49.464731</td>\n",
       "      <td>62.464731</td>\n",
       "      <td>13.0</td>\n",
       "      <td>&lt;90</td>\n",
       "      <td>Superhit</td>\n",
       "    </tr>\n",
       "  </tbody>\n",
       "</table>\n",
       "<p>5 rows × 21 columns</p>\n",
       "</div>"
      ],
      "text/plain": [
       "      Unnamed: 0  Movie ID                           Title        Date  \\\n",
       "1636        1601    134084                        Scream 3  2000-01-09   \n",
       "1672         151    186566                   Space Cowboys  2000-01-09   \n",
       "1640         433    229260  Book of Shadows: Blair Witch 2  2000-01-12   \n",
       "1673          38    184858                  Reindeer Games  2000-01-12   \n",
       "1649         396    184907                        Snow Day  2000-01-12   \n",
       "\n",
       "          Genre  RunTime country            Director          Actors  \\\n",
       "1636     Horror      116     USA          Wes Craven  Liev Schreiber   \n",
       "1672     Action      130     USA      Clint Eastwood  Clint Eastwood   \n",
       "1640  Adventure       90     USA       Joe Berlinger      Kurt Loder   \n",
       "1673     Action      104     USA  John Frankenheimer     Ben Affleck   \n",
       "1649  Adventure       89     USA          Chris Koch   Chris Elliott   \n",
       "\n",
       "      Average_Vote  ...  USA Gross Income  Worldwide Gross Income  \\\n",
       "1636           5.6  ...          89143175               161834276   \n",
       "1672           6.4  ...          90464773               128884132   \n",
       "1640           3.9  ...          26437094                47737094   \n",
       "1673           5.8  ...          23368995                32168970   \n",
       "1649           5.1  ...          60020107                62464731   \n",
       "\n",
       "      Fan Reviews  Year  Profit Percent  Profit in Million ($)  \\\n",
       "1636          763  2000          304.59             121.834276   \n",
       "1672          351  2000           98.28              63.884132   \n",
       "1640          466  2000          218.25              32.737094   \n",
       "1673          222  2000          -23.41              -9.831030   \n",
       "1649          102  2000          380.50              49.464731   \n",
       "\n",
       "      Box Office Collection in Million ($)  Budget in Million ($)  \\\n",
       "1636                            161.834276                   40.0   \n",
       "1672                            128.884132                   65.0   \n",
       "1640                             47.737094                   15.0   \n",
       "1673                             32.168970                   42.0   \n",
       "1649                             62.464731                   13.0   \n",
       "\n",
       "      Runtime range Box Office Report  \n",
       "1636       115-130          Superhit   \n",
       "1672       115-130          Semi Hit   \n",
       "1640           <90          Superhit   \n",
       "1673        90-115              Flop   \n",
       "1649           <90          Superhit   \n",
       "\n",
       "[5 rows x 21 columns]"
      ]
     },
     "execution_count": 21,
     "metadata": {},
     "output_type": "execute_result"
    }
   ],
   "source": [
    "# Profit percent bins\n",
    "# Bins are 0, 90, 115, 130, 145, 160, 185, 200, 215, 230. \n",
    "Bins = [-100, 0, 100, 200, 400, 2000 ]\n",
    "\n",
    "# Create the names for the five bins\n",
    "bin_names = [\" Flop \" , \" Semi Hit \", \"Hit \", \" Superhit \", \"Blockbluster\"]\n",
    "sorted_movie_df[\"Box Office Report\"] = pd.cut(sorted_movie_df[\"Profit Percent\"], Bins, labels=bin_names, include_lowest=True)\n",
    "sorted_movie_df.head()\n"
   ]
  },
  {
   "cell_type": "markdown",
   "id": "fbe9bdc3",
   "metadata": {},
   "source": [
    "    3. Ploting number of movies runtime range wise"
   ]
  },
  {
   "cell_type": "code",
   "execution_count": 22,
   "id": "4bffedef",
   "metadata": {
    "scrolled": true
   },
   "outputs": [
    {
     "data": {
      "image/png": "[encoded data removed]",
      "text/plain": [
       "<Figure size 432x288 with 1 Axes>"
      ]
     },
     "metadata": {
      "needs_background": "light"
     },
     "output_type": "display_data"
    }
   ],
   "source": [
    "# # gropby dataframe on runtime\n",
    "\n",
    "movie_group_df = sorted_movie_df.groupby(\"Runtime range\")\n",
    "\n",
    "# # counting the no. of movies\n",
    "movies_count = movie_group_df[\"Movie ID\"].count()\n",
    "\n",
    "# # showing bar graph for runtime range wise movies count \n",
    "movies_count.plot.bar()\n",
    "plt.xlabel(\"Runtime range\")\n",
    "plt.ylabel(\"Movies Count\")\n",
    "plt.title(\" Runtime range wise Movies Count\")\n",
    "plt.show()"
   ]
  },
  {
   "cell_type": "markdown",
   "id": "133923a8",
   "metadata": {},
   "source": [
    "    4. Analyise profit% based based on movies runtime"
   ]
  },
  {
   "cell_type": "code",
   "execution_count": 23,
   "id": "76ae5024",
   "metadata": {},
   "outputs": [
    {
     "data": {
      "image/png": "[encoded data removed]",
      "text/plain": [
       "<Figure size 432x288 with 1 Axes>"
      ]
     },
     "metadata": {
      "needs_background": "light"
     },
     "output_type": "display_data"
    }
   ],
   "source": [
    "# # showing bar graph for runtime range wise profit %.\n",
    "\n",
    "runtimegrp_prof_sum = sorted_movie_df[[\"Runtime range\",\"Profit in Million ($)\"]].groupby([\"Runtime range\"]).sum()\n",
    "# runtimegrp_prof_sum\n",
    "runtimegrp_budge_sum = sorted_movie_df[[\"Runtime range\",\"Budget in Million ($)\"]].groupby([\"Runtime range\"]).sum()\n",
    "# runtimegrp_budge_sum\n",
    "runtime_profit_per = (runtimegrp_prof_sum[\"Profit in Million ($)\"]/runtimegrp_budge_sum[\"Budget in Million ($)\"])*100\n",
    "runtime_profit_per.plot.bar()\n",
    "plt.xlabel(\"Runtime range\")\n",
    "plt.ylabel(\"Profit %\")\n",
    "plt.title(\" Runtime range wise Profit %\")\n",
    "plt.show()\n"
   ]
  },
  {
   "cell_type": "markdown",
   "id": "d0721606",
   "metadata": {},
   "source": [
    "    5. Finding Correlation between runtime and profitability"
   ]
  },
  {
   "cell_type": "code",
   "execution_count": 24,
   "id": "c3c9bf9f",
   "metadata": {},
   "outputs": [
    {
     "data": {
      "image/png": "[encoded data removed]",
      "text/plain": [
       "<Figure size 432x288 with 1 Axes>"
      ]
     },
     "metadata": {
      "needs_background": "light"
     },
     "output_type": "display_data"
    },
    {
     "name": "stdout",
     "output_type": "stream",
     "text": [
      "The correlation coefficient between Movie RunTime and Box Office Collection is 0.3\n"
     ]
    }
   ],
   "source": [
    "runtimes = sorted_movie_df[\"RunTime\"]\n",
    "income = sorted_movie_df[\"Box Office Collection in Million ($)\"]\n",
    "plt.scatter(runtimes,income)\n",
    "plt.xlabel(\"Movie Runtime Range (In Minutes)\")\n",
    "plt.ylabel(\"Box Office Collection in Million ($)\")\n",
    "plt.show()\n",
    "\n",
    "# Calculate the correlation coefficient between Movie RunTime and Box Office Collection\n",
    "print(f\"The correlation coefficient between Movie RunTime and Box Office Collection is {round(st.pearsonr(runtimes,income)[0],2)}\")\n"
   ]
  },
  {
   "cell_type": "markdown",
   "id": "81f1b4f3",
   "metadata": {},
   "source": [
    "*Conclusion - The runtime and worldwide income has a very low corelation"
   ]
  },
  {
   "cell_type": "markdown",
   "id": "643ab82d",
   "metadata": {},
   "source": [
    "    6. Segregating dataframs based on box office results"
   ]
  },
  {
   "cell_type": "code",
   "execution_count": 12,
   "id": "c01c10ba",
   "metadata": {},
   "outputs": [],
   "source": [
    "flops = sorted_movie_df.loc[sorted_movie_df[\"Box Office Report\"] == \" Flop \"]\n",
    "semi_hits = sorted_movie_df.loc[sorted_movie_df[\"Box Office Report\"] == \" Semi Hit \"]\n",
    "hits = sorted_movie_df.loc[sorted_movie_df[\"Box Office Report\"] == \"Hit \"]\n",
    "superhits = sorted_movie_df.loc[sorted_movie_df[\"Box Office Report\"] == \" Superhit \"]\n",
    "blockblusters = sorted_movie_df.loc[sorted_movie_df[\"Box Office Report\"] == \"Blockbluster\"]\n"
   ]
  },
  {
   "cell_type": "code",
   "execution_count": 12,
   "id": "068cb217",
   "metadata": {},
   "outputs": [
    {
     "data": {
      "text/plain": [
       "279"
      ]
     },
     "execution_count": 12,
     "metadata": {},
     "output_type": "execute_result"
    }
   ],
   "source": [
    "# # Checking no. for flops, semi-hits, hits, superhits, and blockbusters\n",
    "len(flops) #434\n",
    "len(semi_hits) #341\n",
    "len(hits) # 285\n",
    "len(superhits) # 314\n",
    "len(blockblusters) # 279\n"
   ]
  },
  {
   "cell_type": "code",
   "execution_count": 26,
   "id": "94835596",
   "metadata": {},
   "outputs": [
    {
     "data": {
      "text/html": [
       "<div>\n",
       "<style scoped>\n",
       "    .dataframe tbody tr th:only-of-type {\n",
       "        vertical-align: middle;\n",
       "    }\n",
       "\n",
       "    .dataframe tbody tr th {\n",
       "        vertical-align: top;\n",
       "    }\n",
       "\n",
       "    .dataframe thead th {\n",
       "        text-align: right;\n",
       "    }\n",
       "</style>\n",
       "<table border=\"1\" class=\"dataframe\">\n",
       "  <thead>\n",
       "    <tr style=\"text-align: right;\">\n",
       "      <th></th>\n",
       "      <th>index</th>\n",
       "      <th>Date</th>\n",
       "      <th>Year</th>\n",
       "      <th>Title</th>\n",
       "      <th>Director</th>\n",
       "      <th>Genre</th>\n",
       "      <th>Actors</th>\n",
       "      <th>Box Office Collection in Million ($)</th>\n",
       "      <th>Profit Percent</th>\n",
       "    </tr>\n",
       "  </thead>\n",
       "  <tbody>\n",
       "    <tr>\n",
       "      <th>0</th>\n",
       "      <td>1671</td>\n",
       "      <td>2000-06-15</td>\n",
       "      <td>2000</td>\n",
       "      <td>Dinosaur</td>\n",
       "      <td>Eric Leighton, Ralph Zondag</td>\n",
       "      <td>Animation</td>\n",
       "      <td>Alfre Woodard</td>\n",
       "      <td>349.822765</td>\n",
       "      <td>174.37</td>\n",
       "    </tr>\n",
       "    <tr>\n",
       "      <th>1</th>\n",
       "      <td>1624</td>\n",
       "      <td>2001-06-15</td>\n",
       "      <td>2001</td>\n",
       "      <td>Shrek</td>\n",
       "      <td>Andrew Adamson, Vicky Jenson</td>\n",
       "      <td>Animation</td>\n",
       "      <td>Mike Myers</td>\n",
       "      <td>487.769799</td>\n",
       "      <td>712.95</td>\n",
       "    </tr>\n",
       "    <tr>\n",
       "      <th>2</th>\n",
       "      <td>1489</td>\n",
       "      <td>2002-07-06</td>\n",
       "      <td>2002</td>\n",
       "      <td>Spider-Man</td>\n",
       "      <td>Sam Raimi</td>\n",
       "      <td>Action</td>\n",
       "      <td>Tobey Maguire</td>\n",
       "      <td>825.025036</td>\n",
       "      <td>493.54</td>\n",
       "    </tr>\n",
       "    <tr>\n",
       "      <th>3</th>\n",
       "      <td>1470</td>\n",
       "      <td>2003-05-23</td>\n",
       "      <td>2003</td>\n",
       "      <td>The Matrix Reloaded</td>\n",
       "      <td>Lana Wachowski, Lilly Wachowski</td>\n",
       "      <td>Action</td>\n",
       "      <td>Ray Anthony</td>\n",
       "      <td>741.847890</td>\n",
       "      <td>394.57</td>\n",
       "    </tr>\n",
       "    <tr>\n",
       "      <th>4</th>\n",
       "      <td>1338</td>\n",
       "      <td>2004-12-17</td>\n",
       "      <td>2004</td>\n",
       "      <td>Shrek 2</td>\n",
       "      <td>Andrew Adamson, Kelly Asbury</td>\n",
       "      <td>Animation</td>\n",
       "      <td>Mike Myers</td>\n",
       "      <td>928.760770</td>\n",
       "      <td>519.17</td>\n",
       "    </tr>\n",
       "  </tbody>\n",
       "</table>\n",
       "</div>"
      ],
      "text/plain": [
       "   index        Date  Year                Title  \\\n",
       "0   1671  2000-06-15  2000             Dinosaur   \n",
       "1   1624  2001-06-15  2001                Shrek   \n",
       "2   1489  2002-07-06  2002           Spider-Man   \n",
       "3   1470  2003-05-23  2003  The Matrix Reloaded   \n",
       "4   1338  2004-12-17  2004              Shrek 2   \n",
       "\n",
       "                          Director      Genre         Actors  \\\n",
       "0      Eric Leighton, Ralph Zondag  Animation  Alfre Woodard   \n",
       "1     Andrew Adamson, Vicky Jenson  Animation     Mike Myers   \n",
       "2                        Sam Raimi     Action  Tobey Maguire   \n",
       "3  Lana Wachowski, Lilly Wachowski     Action    Ray Anthony   \n",
       "4     Andrew Adamson, Kelly Asbury  Animation     Mike Myers   \n",
       "\n",
       "   Box Office Collection in Million ($)  Profit Percent  \n",
       "0                            349.822765          174.37  \n",
       "1                            487.769799          712.95  \n",
       "2                            825.025036          493.54  \n",
       "3                            741.847890          394.57  \n",
       "4                            928.760770          519.17  "
      ]
     },
     "execution_count": 26,
     "metadata": {},
     "output_type": "execute_result"
    }
   ],
   "source": [
    "# Biggest Blocbusters(Movie of the year) for 2000-2020\n",
    "\n",
    "blockbuster_summ = sorted_movie_df[[\"Date\",\"Year\",\"Title\",\"Director\",\"Genre\",\"Actors\",\"Box Office Collection in Million ($)\",\"Profit Percent\"]].loc[sorted_movie_df.groupby(\"Year\")[\"Box Office Collection in Million ($)\"].idxmax()]\n",
    "# blockbuster_summ.max(\"Box Office Collectio in Million ($)\")\n",
    "blockbuster_summ.reset_index().head()\n"
   ]
  },
  {
   "cell_type": "markdown",
   "id": "6a6736e7",
   "metadata": {},
   "source": [
    "    7. line graph showing the the trend of biggest blockbuster movies box office collection through out these years(2000-2020)"
   ]
  },
  {
   "cell_type": "code",
   "execution_count": 72,
   "id": "2872b321",
   "metadata": {},
   "outputs": [
    {
     "data": {
      "image/png": "[encoded data removed]",
      "text/plain": [
       "<Figure size 432x288 with 1 Axes>"
      ]
     },
     "metadata": {
      "needs_background": "light"
     },
     "output_type": "display_data"
    }
   ],
   "source": [
    "x_axis_data = blockbuster_summ[\"Year\"]\n",
    "points = blockbuster_summ[\"Box Office Collection in Million ($)\"]\n",
    "plt.plot(x_axis_data, points,color=\"orange\")\n",
    "plt.xlabel(\"Year\")\n",
    "plt.ylabel(\"Box Office Collection in Million ($)\")\n",
    "plt.title(\"Blockbuster movie of the year colletion graph\")\n",
    "\n",
    "plt.show()"
   ]
  },
  {
   "cell_type": "markdown",
   "id": "395fa40c",
   "metadata": {},
   "source": [
    "    8. Most sucessful Actors and Directors for 2000-2020.\n"
   ]
  },
  {
   "cell_type": "code",
   "execution_count": 28,
   "id": "9e9dd164",
   "metadata": {
    "scrolled": true
   },
   "outputs": [
    {
     "data": {
      "image/png": "[encoded data removed]",
      "text/plain": [
       "<Figure size 432x288 with 1 Axes>"
      ]
     },
     "metadata": {
      "needs_background": "light"
     },
     "output_type": "display_data"
    }
   ],
   "source": [
    "blockbuster_summ[[\"Title\",\"Actors\"]].groupby(\"Actors\").count().plot.bar()\n",
    "plt.xlabel(\"Actors\")\n",
    "plt.ylabel(\"No. of movies\")\n",
    "plt.title(\"Most Succesful actor for 2000-2020\")\n",
    "plt.show()"
   ]
  },
  {
   "cell_type": "code",
   "execution_count": 36,
   "id": "61b8652b",
   "metadata": {},
   "outputs": [
    {
     "data": {
      "image/png": "[encoded data removed]",
      "text/plain": [
       "<Figure size 432x288 with 1 Axes>"
      ]
     },
     "metadata": {
      "needs_background": "light"
     },
     "output_type": "display_data"
    }
   ],
   "source": [
    "blockbuster_summ[[\"Title\",\"Director\"]].groupby(\"Director\").count().plot.bar()\n",
    "plt.xlabel(\"Director\")\n",
    "plt.ylabel(\"No. of movies\")\n",
    "plt.title(\"Most Succesful Director for 2000-2020\")\n",
    "plt.show()"
   ]
  },
  {
   "cell_type": "markdown",
   "id": "814b1c42",
   "metadata": {},
   "source": [
    "#    7) Does the movie release time affects the profitability?"
   ]
  },
  {
   "cell_type": "markdown",
   "id": "1643a5f5",
   "metadata": {},
   "source": [
    "    1. Analysing the release time of the Biggest blockbluster(Movies of the year) movies "
   ]
  },
  {
   "cell_type": "code",
   "execution_count": 51,
   "id": "6e26b5f9",
   "metadata": {},
   "outputs": [
    {
     "data": {
      "image/png": "[encoded data removed]",
      "text/plain": [
       "<Figure size 432x288 with 1 Axes>"
      ]
     },
     "metadata": {
      "needs_background": "light"
     },
     "output_type": "display_data"
    }
   ],
   "source": [
    "# Biggest Blockbluster release time - (Month distribution)\n",
    "\n",
    "blockbuster_summ[\"Date\"] = pd.to_datetime(blockbuster_summ[\"Date\"])\n",
    "blockbuster_summ[\"Quarter\"] = blockbuster_summ[\"Date\"].dt.quarter\n",
    "blockbuster_summ[\"Month\"] = blockbuster_summ[\"Date\"].dt.month\n",
    "x = blockbuster_summ[[\"Title\",\"Month\"]].groupby(\"Month\").count()\n",
    "x.plot.bar()\n",
    "plt.xlabel(\"Months\")\n",
    "plt.ylabel(\"Movies Count\")\n",
    "plt.title(\"Biggest Blockbuster monthwise distribution\")\n",
    "plt.show()\n",
    "\n",
    "# blockbuster_summ.dtypes"
   ]
  },
  {
   "cell_type": "markdown",
   "id": "6cf9e095",
   "metadata": {},
   "source": [
    "    2. Analysing the release time of the Blockbuster movies "
   ]
  },
  {
   "cell_type": "code",
   "execution_count": 48,
   "id": "3614a7b3",
   "metadata": {},
   "outputs": [
    {
     "data": {
      "image/png": "[encoded data removed]",
      "text/plain": [
       "<Figure size 432x288 with 1 Axes>"
      ]
     },
     "metadata": {
      "needs_background": "light"
     },
     "output_type": "display_data"
    }
   ],
   "source": [
    "# Blockbusters release time -(month distribution)\n",
    "\n",
    "blockblusters[\"Date\"] = pd.to_datetime(blockblusters[\"Date\"])\n",
    "blockblusters[\"Month\"] = blockblusters[\"Date\"].dt.month\n",
    "y = blockblusters[[\"Title\",\"Month\"]].groupby(\"Month\").count()\n",
    "y.plot.bar()\n",
    "plt.xlabel(\"Months\")\n",
    "plt.ylabel(\"Movies Count\")\n",
    "plt.title(\"Blockbuster monthwise distribution \")\n",
    "\n",
    "plt.show()"
   ]
  },
  {
   "cell_type": "markdown",
   "id": "1b1bb026",
   "metadata": {},
   "source": [
    "    3. Analysing the release time of the Flop movies "
   ]
  },
  {
   "cell_type": "code",
   "execution_count": 50,
   "id": "efc88d39",
   "metadata": {},
   "outputs": [
    {
     "data": {
      "image/png": "[encoded data removed]",
      "text/plain": [
       "<Figure size 432x288 with 1 Axes>"
      ]
     },
     "metadata": {
      "needs_background": "light"
     },
     "output_type": "display_data"
    }
   ],
   "source": [
    "# Flop release time -(month distribution)\n",
    "\n",
    "flops[\"Date\"] = pd.to_datetime(flops[\"Date\"])\n",
    "flops[\"Quarter\"] = flops[\"Date\"].dt.quarter\n",
    "flops[\"Month\"] = flops[\"Date\"].dt.month\n",
    "z = flops[[\"Title\",\"Month\"]].groupby(\"Month\").count()\n",
    "z.plot.bar()\n",
    "plt.xlabel(\"Months\")\n",
    "plt.ylabel(\"Movies Count\")\n",
    "plt.title(\"Flops monthwise distribution\")\n",
    "plt.show()\n"
   ]
  },
  {
   "cell_type": "markdown",
   "id": "615b7bd5",
   "metadata": {},
   "source": [
    "    4. Analysing Biggest blockbuster, blockbuster and flop movies monthwise count through line graph"
   ]
  },
  {
   "cell_type": "code",
   "execution_count": 70,
   "id": "7483023b",
   "metadata": {},
   "outputs": [
    {
     "data": {
      "image/png": "[encoded data removed]",
      "text/plain": [
       "<Figure size 432x288 with 1 Axes>"
      ]
     },
     "metadata": {
      "needs_background": "light"
     },
     "output_type": "display_data"
    }
   ],
   "source": [
    "plt.plot(x,linewidth=2, markersize=10,marker=\"*\",color=\"green\", label=\"BIggest Blockbuster\")\n",
    "plt.plot(y,linewidth=2, markersize=10,marker=\"*\",color=\"purple\", label=\"Blockbuster\")\n",
    "plt.plot(z,linewidth=2, markersize=10,marker=\"*\",color=\"red\", label=\"Flop\")\n",
    "\n",
    "plt.title(\"Biggest blockbuster, blockbuster and flop movies monthwise\")\n",
    "plt.xlabel(\"Months\")\n",
    "plt.ylabel(\"Movies Count\")\n",
    "\n",
    "plt.legend(loc=\"best\")\n",
    "\n",
    "plt.show()"
   ]
  },
  {
   "cell_type": "code",
   "execution_count": null,
   "id": "3d322ba3",
   "metadata": {},
   "outputs": [],
   "source": []
  }
 ],
 "metadata": {
  "kernelspec": {
   "display_name": "Python 3 (ipykernel)",
   "language": "python",
   "name": "python3"
  },
  "language_info": {
   "codemirror_mode": {
    "name": "ipython",
    "version": 3
   },
   "file_extension": ".py",
   "mimetype": "text/x-python",
   "name": "python",
   "nbconvert_exporter": "python",
   "pygments_lexer": "ipython3",
   "version": "3.9.7"
  }
 },
 "nbformat": 4,
 "nbformat_minor": 5
}
